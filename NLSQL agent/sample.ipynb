{
 "cells": [
  {
   "cell_type": "code",
   "execution_count": 2,
   "id": "740a5215",
   "metadata": {},
   "outputs": [],
   "source": [
    "from llama_index.core.query_engine import NLSQLTableQueryEngine "
   ]
  },
  {
   "cell_type": "code",
   "execution_count": 5,
   "id": "b420820a",
   "metadata": {},
   "outputs": [],
   "source": [
    "from dotenv import load_dotenv"
   ]
  },
  {
   "cell_type": "code",
   "execution_count": 6,
   "id": "f8f0975d",
   "metadata": {},
   "outputs": [
    {
     "data": {
      "text/plain": [
       "True"
      ]
     },
     "execution_count": 6,
     "metadata": {},
     "output_type": "execute_result"
    }
   ],
   "source": [
    "load_dotenv()"
   ]
  },
  {
   "cell_type": "code",
   "execution_count": 11,
   "id": "e37fb741",
   "metadata": {},
   "outputs": [
    {
     "name": "stderr",
     "output_type": "stream",
     "text": [
      "<>:2: SyntaxWarning: invalid escape sequence '\\L'\n",
      "<>:2: SyntaxWarning: invalid escape sequence '\\L'\n",
      "C:\\Users\\keerthana J\\AppData\\Local\\Temp\\ipykernel_2432\\2882466262.py:2: SyntaxWarning: invalid escape sequence '\\L'\n",
      "  db_path=\"D:\\Learnings\\generativeAI\\Learning_ADK\\employees.db\"\n"
     ]
    }
   ],
   "source": [
    "from llama_index.core import SQLDatabase\n",
    "db_path=\"D:\\Learnings\\generativeAI\\Learning_ADK\\employees.db\"\n",
    "sqlite_uri=f\"sqlite:///{db_path}\"\n",
    "sql_database=SQLDatabase.from_uri(sqlite_uri)"
   ]
  },
  {
   "cell_type": "code",
   "execution_count": null,
   "id": "e57d0e0e",
   "metadata": {},
   "outputs": [],
   "source": [
    "import os \n",
    "from llama_index.llms.gemini import Geminigemini_api_key = os.getenv(\"GEMINI_API_KEY\")"
   ]
  },
  {
   "cell_type": "code",
   "execution_count": 17,
   "id": "be0d2ddc",
   "metadata": {},
   "outputs": [
    {
     "name": "stdout",
     "output_type": "stream",
     "text": [
      "Requirement already satisfied: llama-index-llms-gemini in d:\\learnings\\generativeai\\learning_adk\\myenv\\lib\\site-packages (0.4.14)\n",
      "Requirement already satisfied: google-generativeai>=0.5.2 in d:\\learnings\\generativeai\\learning_adk\\myenv\\lib\\site-packages (from llama-index-llms-gemini) (0.8.5)\n",
      "Requirement already satisfied: llama-index-core<0.13.0,>=0.12.12 in d:\\learnings\\generativeai\\learning_adk\\myenv\\lib\\site-packages (from llama-index-llms-gemini) (0.12.35)\n",
      "Requirement already satisfied: pillow<11.0.0,>=10.2.0 in d:\\learnings\\generativeai\\learning_adk\\myenv\\lib\\site-packages (from llama-index-llms-gemini) (10.4.0)\n",
      "Requirement already satisfied: google-ai-generativelanguage==0.6.15 in d:\\learnings\\generativeai\\learning_adk\\myenv\\lib\\site-packages (from google-generativeai>=0.5.2->llama-index-llms-gemini) (0.6.15)\n",
      "Requirement already satisfied: google-api-core in d:\\learnings\\generativeai\\learning_adk\\myenv\\lib\\site-packages (from google-generativeai>=0.5.2->llama-index-llms-gemini) (2.24.2)\n",
      "Requirement already satisfied: google-api-python-client in d:\\learnings\\generativeai\\learning_adk\\myenv\\lib\\site-packages (from google-generativeai>=0.5.2->llama-index-llms-gemini) (2.169.0)\n",
      "Requirement already satisfied: google-auth>=2.15.0 in d:\\learnings\\generativeai\\learning_adk\\myenv\\lib\\site-packages (from google-generativeai>=0.5.2->llama-index-llms-gemini) (2.40.1)\n",
      "Requirement already satisfied: protobuf in d:\\learnings\\generativeai\\learning_adk\\myenv\\lib\\site-packages (from google-generativeai>=0.5.2->llama-index-llms-gemini) (5.29.4)\n",
      "Requirement already satisfied: pydantic in d:\\learnings\\generativeai\\learning_adk\\myenv\\lib\\site-packages (from google-generativeai>=0.5.2->llama-index-llms-gemini) (2.11.4)\n",
      "Requirement already satisfied: tqdm in d:\\learnings\\generativeai\\learning_adk\\myenv\\lib\\site-packages (from google-generativeai>=0.5.2->llama-index-llms-gemini) (4.67.1)\n",
      "Requirement already satisfied: typing-extensions in d:\\learnings\\generativeai\\learning_adk\\myenv\\lib\\site-packages (from google-generativeai>=0.5.2->llama-index-llms-gemini) (4.13.2)\n",
      "Requirement already satisfied: proto-plus<2.0.0dev,>=1.22.3 in d:\\learnings\\generativeai\\learning_adk\\myenv\\lib\\site-packages (from google-ai-generativelanguage==0.6.15->google-generativeai>=0.5.2->llama-index-llms-gemini) (1.26.1)\n",
      "Requirement already satisfied: aiohttp<4,>=3.8.6 in d:\\learnings\\generativeai\\learning_adk\\myenv\\lib\\site-packages (from llama-index-core<0.13.0,>=0.12.12->llama-index-llms-gemini) (3.11.18)\n",
      "Requirement already satisfied: aiosqlite in d:\\learnings\\generativeai\\learning_adk\\myenv\\lib\\site-packages (from llama-index-core<0.13.0,>=0.12.12->llama-index-llms-gemini) (0.21.0)\n",
      "Requirement already satisfied: banks<3,>=2.0.0 in d:\\learnings\\generativeai\\learning_adk\\myenv\\lib\\site-packages (from llama-index-core<0.13.0,>=0.12.12->llama-index-llms-gemini) (2.1.2)\n",
      "Requirement already satisfied: dataclasses-json in d:\\learnings\\generativeai\\learning_adk\\myenv\\lib\\site-packages (from llama-index-core<0.13.0,>=0.12.12->llama-index-llms-gemini) (0.6.7)\n",
      "Requirement already satisfied: deprecated>=1.2.9.3 in d:\\learnings\\generativeai\\learning_adk\\myenv\\lib\\site-packages (from llama-index-core<0.13.0,>=0.12.12->llama-index-llms-gemini) (1.2.18)\n",
      "Requirement already satisfied: dirtyjson<2,>=1.0.8 in d:\\learnings\\generativeai\\learning_adk\\myenv\\lib\\site-packages (from llama-index-core<0.13.0,>=0.12.12->llama-index-llms-gemini) (1.0.8)\n",
      "Requirement already satisfied: filetype<2,>=1.2.0 in d:\\learnings\\generativeai\\learning_adk\\myenv\\lib\\site-packages (from llama-index-core<0.13.0,>=0.12.12->llama-index-llms-gemini) (1.2.0)\n",
      "Requirement already satisfied: fsspec>=2023.5.0 in d:\\learnings\\generativeai\\learning_adk\\myenv\\lib\\site-packages (from llama-index-core<0.13.0,>=0.12.12->llama-index-llms-gemini) (2025.3.2)\n",
      "Requirement already satisfied: httpx in d:\\learnings\\generativeai\\learning_adk\\myenv\\lib\\site-packages (from llama-index-core<0.13.0,>=0.12.12->llama-index-llms-gemini) (0.28.1)\n",
      "Requirement already satisfied: nest-asyncio<2,>=1.5.8 in d:\\learnings\\generativeai\\learning_adk\\myenv\\lib\\site-packages (from llama-index-core<0.13.0,>=0.12.12->llama-index-llms-gemini) (1.6.0)\n",
      "Requirement already satisfied: networkx>=3.0 in d:\\learnings\\generativeai\\learning_adk\\myenv\\lib\\site-packages (from llama-index-core<0.13.0,>=0.12.12->llama-index-llms-gemini) (3.4.2)\n",
      "Requirement already satisfied: nltk>3.8.1 in d:\\learnings\\generativeai\\learning_adk\\myenv\\lib\\site-packages (from llama-index-core<0.13.0,>=0.12.12->llama-index-llms-gemini) (3.9.1)\n",
      "Requirement already satisfied: numpy in d:\\learnings\\generativeai\\learning_adk\\myenv\\lib\\site-packages (from llama-index-core<0.13.0,>=0.12.12->llama-index-llms-gemini) (2.2.5)\n",
      "Requirement already satisfied: pyyaml>=6.0.1 in d:\\learnings\\generativeai\\learning_adk\\myenv\\lib\\site-packages (from llama-index-core<0.13.0,>=0.12.12->llama-index-llms-gemini) (6.0.2)\n",
      "Requirement already satisfied: requests>=2.31.0 in d:\\learnings\\generativeai\\learning_adk\\myenv\\lib\\site-packages (from llama-index-core<0.13.0,>=0.12.12->llama-index-llms-gemini) (2.32.3)\n",
      "Requirement already satisfied: sqlalchemy>=1.4.49 in d:\\learnings\\generativeai\\learning_adk\\myenv\\lib\\site-packages (from sqlalchemy[asyncio]>=1.4.49->llama-index-core<0.13.0,>=0.12.12->llama-index-llms-gemini) (2.0.40)\n",
      "Requirement already satisfied: tenacity!=8.4.0,<10.0.0,>=8.2.0 in d:\\learnings\\generativeai\\learning_adk\\myenv\\lib\\site-packages (from llama-index-core<0.13.0,>=0.12.12->llama-index-llms-gemini) (9.1.2)\n",
      "Requirement already satisfied: tiktoken>=0.7.0 in d:\\learnings\\generativeai\\learning_adk\\myenv\\lib\\site-packages (from llama-index-core<0.13.0,>=0.12.12->llama-index-llms-gemini) (0.9.0)\n",
      "Requirement already satisfied: typing-inspect>=0.8.0 in d:\\learnings\\generativeai\\learning_adk\\myenv\\lib\\site-packages (from llama-index-core<0.13.0,>=0.12.12->llama-index-llms-gemini) (0.9.0)\n",
      "Requirement already satisfied: wrapt in d:\\learnings\\generativeai\\learning_adk\\myenv\\lib\\site-packages (from llama-index-core<0.13.0,>=0.12.12->llama-index-llms-gemini) (1.17.2)\n",
      "Requirement already satisfied: aiohappyeyeballs>=2.3.0 in d:\\learnings\\generativeai\\learning_adk\\myenv\\lib\\site-packages (from aiohttp<4,>=3.8.6->llama-index-core<0.13.0,>=0.12.12->llama-index-llms-gemini) (2.6.1)\n",
      "Requirement already satisfied: aiosignal>=1.1.2 in d:\\learnings\\generativeai\\learning_adk\\myenv\\lib\\site-packages (from aiohttp<4,>=3.8.6->llama-index-core<0.13.0,>=0.12.12->llama-index-llms-gemini) (1.3.2)\n",
      "Requirement already satisfied: attrs>=17.3.0 in d:\\learnings\\generativeai\\learning_adk\\myenv\\lib\\site-packages (from aiohttp<4,>=3.8.6->llama-index-core<0.13.0,>=0.12.12->llama-index-llms-gemini) (25.3.0)\n",
      "Requirement already satisfied: frozenlist>=1.1.1 in d:\\learnings\\generativeai\\learning_adk\\myenv\\lib\\site-packages (from aiohttp<4,>=3.8.6->llama-index-core<0.13.0,>=0.12.12->llama-index-llms-gemini) (1.6.0)\n",
      "Requirement already satisfied: multidict<7.0,>=4.5 in d:\\learnings\\generativeai\\learning_adk\\myenv\\lib\\site-packages (from aiohttp<4,>=3.8.6->llama-index-core<0.13.0,>=0.12.12->llama-index-llms-gemini) (6.4.3)\n",
      "Requirement already satisfied: propcache>=0.2.0 in d:\\learnings\\generativeai\\learning_adk\\myenv\\lib\\site-packages (from aiohttp<4,>=3.8.6->llama-index-core<0.13.0,>=0.12.12->llama-index-llms-gemini) (0.3.1)\n",
      "Requirement already satisfied: yarl<2.0,>=1.17.0 in d:\\learnings\\generativeai\\learning_adk\\myenv\\lib\\site-packages (from aiohttp<4,>=3.8.6->llama-index-core<0.13.0,>=0.12.12->llama-index-llms-gemini) (1.20.0)\n",
      "Requirement already satisfied: griffe in d:\\learnings\\generativeai\\learning_adk\\myenv\\lib\\site-packages (from banks<3,>=2.0.0->llama-index-core<0.13.0,>=0.12.12->llama-index-llms-gemini) (1.7.3)\n",
      "Requirement already satisfied: jinja2 in d:\\learnings\\generativeai\\learning_adk\\myenv\\lib\\site-packages (from banks<3,>=2.0.0->llama-index-core<0.13.0,>=0.12.12->llama-index-llms-gemini) (3.1.6)\n",
      "Requirement already satisfied: platformdirs in d:\\learnings\\generativeai\\learning_adk\\myenv\\lib\\site-packages (from banks<3,>=2.0.0->llama-index-core<0.13.0,>=0.12.12->llama-index-llms-gemini) (4.3.8)\n",
      "Requirement already satisfied: googleapis-common-protos<2.0.0,>=1.56.2 in d:\\learnings\\generativeai\\learning_adk\\myenv\\lib\\site-packages (from google-api-core->google-generativeai>=0.5.2->llama-index-llms-gemini) (1.70.0)\n",
      "Requirement already satisfied: cachetools<6.0,>=2.0.0 in d:\\learnings\\generativeai\\learning_adk\\myenv\\lib\\site-packages (from google-auth>=2.15.0->google-generativeai>=0.5.2->llama-index-llms-gemini) (5.5.2)\n",
      "Requirement already satisfied: pyasn1-modules>=0.2.1 in d:\\learnings\\generativeai\\learning_adk\\myenv\\lib\\site-packages (from google-auth>=2.15.0->google-generativeai>=0.5.2->llama-index-llms-gemini) (0.4.2)\n",
      "Requirement already satisfied: rsa<5,>=3.1.4 in d:\\learnings\\generativeai\\learning_adk\\myenv\\lib\\site-packages (from google-auth>=2.15.0->google-generativeai>=0.5.2->llama-index-llms-gemini) (4.9.1)\n",
      "Requirement already satisfied: click in d:\\learnings\\generativeai\\learning_adk\\myenv\\lib\\site-packages (from nltk>3.8.1->llama-index-core<0.13.0,>=0.12.12->llama-index-llms-gemini) (8.2.0)\n",
      "Requirement already satisfied: joblib in d:\\learnings\\generativeai\\learning_adk\\myenv\\lib\\site-packages (from nltk>3.8.1->llama-index-core<0.13.0,>=0.12.12->llama-index-llms-gemini) (1.5.0)\n",
      "Requirement already satisfied: regex>=2021.8.3 in d:\\learnings\\generativeai\\learning_adk\\myenv\\lib\\site-packages (from nltk>3.8.1->llama-index-core<0.13.0,>=0.12.12->llama-index-llms-gemini) (2024.11.6)\n",
      "Requirement already satisfied: annotated-types>=0.6.0 in d:\\learnings\\generativeai\\learning_adk\\myenv\\lib\\site-packages (from pydantic->google-generativeai>=0.5.2->llama-index-llms-gemini) (0.7.0)\n",
      "Requirement already satisfied: pydantic-core==2.33.2 in d:\\learnings\\generativeai\\learning_adk\\myenv\\lib\\site-packages (from pydantic->google-generativeai>=0.5.2->llama-index-llms-gemini) (2.33.2)\n",
      "Requirement already satisfied: typing-inspection>=0.4.0 in d:\\learnings\\generativeai\\learning_adk\\myenv\\lib\\site-packages (from pydantic->google-generativeai>=0.5.2->llama-index-llms-gemini) (0.4.0)\n",
      "Requirement already satisfied: charset-normalizer<4,>=2 in d:\\learnings\\generativeai\\learning_adk\\myenv\\lib\\site-packages (from requests>=2.31.0->llama-index-core<0.13.0,>=0.12.12->llama-index-llms-gemini) (3.4.2)\n",
      "Requirement already satisfied: idna<4,>=2.5 in d:\\learnings\\generativeai\\learning_adk\\myenv\\lib\\site-packages (from requests>=2.31.0->llama-index-core<0.13.0,>=0.12.12->llama-index-llms-gemini) (3.10)\n",
      "Requirement already satisfied: urllib3<3,>=1.21.1 in d:\\learnings\\generativeai\\learning_adk\\myenv\\lib\\site-packages (from requests>=2.31.0->llama-index-core<0.13.0,>=0.12.12->llama-index-llms-gemini) (2.4.0)\n",
      "Requirement already satisfied: certifi>=2017.4.17 in d:\\learnings\\generativeai\\learning_adk\\myenv\\lib\\site-packages (from requests>=2.31.0->llama-index-core<0.13.0,>=0.12.12->llama-index-llms-gemini) (2025.4.26)\n",
      "Requirement already satisfied: greenlet>=1 in d:\\learnings\\generativeai\\learning_adk\\myenv\\lib\\site-packages (from sqlalchemy>=1.4.49->sqlalchemy[asyncio]>=1.4.49->llama-index-core<0.13.0,>=0.12.12->llama-index-llms-gemini) (3.2.2)\n",
      "Requirement already satisfied: colorama in d:\\learnings\\generativeai\\learning_adk\\myenv\\lib\\site-packages (from tqdm->google-generativeai>=0.5.2->llama-index-llms-gemini) (0.4.6)\n",
      "Requirement already satisfied: mypy-extensions>=0.3.0 in d:\\learnings\\generativeai\\learning_adk\\myenv\\lib\\site-packages (from typing-inspect>=0.8.0->llama-index-core<0.13.0,>=0.12.12->llama-index-llms-gemini) (1.1.0)\n",
      "Requirement already satisfied: marshmallow<4.0.0,>=3.18.0 in d:\\learnings\\generativeai\\learning_adk\\myenv\\lib\\site-packages (from dataclasses-json->llama-index-core<0.13.0,>=0.12.12->llama-index-llms-gemini) (3.26.1)\n",
      "Requirement already satisfied: httplib2<1.0.0,>=0.19.0 in d:\\learnings\\generativeai\\learning_adk\\myenv\\lib\\site-packages (from google-api-python-client->google-generativeai>=0.5.2->llama-index-llms-gemini) (0.22.0)\n",
      "Requirement already satisfied: google-auth-httplib2<1.0.0,>=0.2.0 in d:\\learnings\\generativeai\\learning_adk\\myenv\\lib\\site-packages (from google-api-python-client->google-generativeai>=0.5.2->llama-index-llms-gemini) (0.2.0)\n",
      "Requirement already satisfied: uritemplate<5,>=3.0.1 in d:\\learnings\\generativeai\\learning_adk\\myenv\\lib\\site-packages (from google-api-python-client->google-generativeai>=0.5.2->llama-index-llms-gemini) (4.1.1)\n",
      "Requirement already satisfied: anyio in d:\\learnings\\generativeai\\learning_adk\\myenv\\lib\\site-packages (from httpx->llama-index-core<0.13.0,>=0.12.12->llama-index-llms-gemini) (4.9.0)\n",
      "Requirement already satisfied: httpcore==1.* in d:\\learnings\\generativeai\\learning_adk\\myenv\\lib\\site-packages (from httpx->llama-index-core<0.13.0,>=0.12.12->llama-index-llms-gemini) (1.0.9)\n",
      "Requirement already satisfied: h11>=0.16 in d:\\learnings\\generativeai\\learning_adk\\myenv\\lib\\site-packages (from httpcore==1.*->httpx->llama-index-core<0.13.0,>=0.12.12->llama-index-llms-gemini) (0.16.0)\n",
      "Requirement already satisfied: grpcio<2.0dev,>=1.33.2 in d:\\learnings\\generativeai\\learning_adk\\myenv\\lib\\site-packages (from google-api-core[grpc]!=2.0.*,!=2.1.*,!=2.10.*,!=2.2.*,!=2.3.*,!=2.4.*,!=2.5.*,!=2.6.*,!=2.7.*,!=2.8.*,!=2.9.*,<3.0.0dev,>=1.34.1->google-ai-generativelanguage==0.6.15->google-generativeai>=0.5.2->llama-index-llms-gemini) (1.72.0rc1)\n",
      "Requirement already satisfied: grpcio-status<2.0.dev0,>=1.33.2 in d:\\learnings\\generativeai\\learning_adk\\myenv\\lib\\site-packages (from google-api-core[grpc]!=2.0.*,!=2.1.*,!=2.10.*,!=2.2.*,!=2.3.*,!=2.4.*,!=2.5.*,!=2.6.*,!=2.7.*,!=2.8.*,!=2.9.*,<3.0.0dev,>=1.34.1->google-ai-generativelanguage==0.6.15->google-generativeai>=0.5.2->llama-index-llms-gemini) (1.71.0)\n",
      "Requirement already satisfied: pyparsing!=3.0.0,!=3.0.1,!=3.0.2,!=3.0.3,<4,>=2.4.2 in d:\\learnings\\generativeai\\learning_adk\\myenv\\lib\\site-packages (from httplib2<1.0.0,>=0.19.0->google-api-python-client->google-generativeai>=0.5.2->llama-index-llms-gemini) (3.2.3)\n",
      "Requirement already satisfied: packaging>=17.0 in d:\\learnings\\generativeai\\learning_adk\\myenv\\lib\\site-packages (from marshmallow<4.0.0,>=3.18.0->dataclasses-json->llama-index-core<0.13.0,>=0.12.12->llama-index-llms-gemini) (24.2)\n",
      "Requirement already satisfied: pyasn1<0.7.0,>=0.6.1 in d:\\learnings\\generativeai\\learning_adk\\myenv\\lib\\site-packages (from pyasn1-modules>=0.2.1->google-auth>=2.15.0->google-generativeai>=0.5.2->llama-index-llms-gemini) (0.6.1)\n",
      "Requirement already satisfied: sniffio>=1.1 in d:\\learnings\\generativeai\\learning_adk\\myenv\\lib\\site-packages (from anyio->httpx->llama-index-core<0.13.0,>=0.12.12->llama-index-llms-gemini) (1.3.1)\n",
      "Requirement already satisfied: MarkupSafe>=2.0 in d:\\learnings\\generativeai\\learning_adk\\myenv\\lib\\site-packages (from jinja2->banks<3,>=2.0.0->llama-index-core<0.13.0,>=0.12.12->llama-index-llms-gemini) (3.0.2)\n",
      "Note: you may need to restart the kernel to use updated packages.\n"
     ]
    },
    {
     "name": "stderr",
     "output_type": "stream",
     "text": [
      "\n",
      "[notice] A new release of pip is available: 25.0.1 -> 25.1.1\n",
      "[notice] To update, run: python.exe -m pip install --upgrade pip\n"
     ]
    }
   ],
   "source": [
    "pip install llama-index-llms-gemini"
   ]
  },
  {
   "cell_type": "code",
   "execution_count": 18,
   "id": "a8d4630d",
   "metadata": {},
   "outputs": [
    {
     "name": "stderr",
     "output_type": "stream",
     "text": [
      "d:\\Learnings\\generativeAI\\Learning_ADK\\myenv\\Lib\\site-packages\\tqdm\\auto.py:21: TqdmWarning: IProgress not found. Please update jupyter and ipywidgets. See https://ipywidgets.readthedocs.io/en/stable/user_install.html\n",
      "  from .autonotebook import tqdm as notebook_tqdm\n",
      "C:\\Users\\keerthana J\\AppData\\Local\\Temp\\ipykernel_2432\\2713137433.py:2: DeprecationWarning: Call to deprecated class Gemini. (Should use `llama-index-llms-google-genai` instead, using Google's latest unified SDK. See: https://docs.llamaindex.ai/en/stable/examples/llm/google_genai/)\n",
      "  llm = Gemini(api_key=gemini_api_key, model=\"models/gemini-1.5-flash\")\n"
     ]
    }
   ],
   "source": [
    "from llama_index.llms.gemini import Gemini\n",
    "llm = Gemini(api_key=gemini_api_key, model=\"models/gemini-1.5-flash\")\n"
   ]
  },
  {
   "cell_type": "code",
   "execution_count": 20,
   "id": "241fd0cf",
   "metadata": {},
   "outputs": [
    {
     "name": "stdout",
     "output_type": "stream",
     "text": [
      "Requirement already satisfied: llama-index in d:\\learnings\\generativeai\\learning_adk\\myenv\\lib\\site-packages (0.12.35)\n",
      "Requirement already satisfied: google-generativeai in d:\\learnings\\generativeai\\learning_adk\\myenv\\lib\\site-packages (0.8.5)\n",
      "Requirement already satisfied: llama-index-llms-gemini in d:\\learnings\\generativeai\\learning_adk\\myenv\\lib\\site-packages (0.4.14)\n",
      "Requirement already satisfied: llama-index-agent-openai<0.5,>=0.4.0 in d:\\learnings\\generativeai\\learning_adk\\myenv\\lib\\site-packages (from llama-index) (0.4.7)\n",
      "Requirement already satisfied: llama-index-cli<0.5,>=0.4.1 in d:\\learnings\\generativeai\\learning_adk\\myenv\\lib\\site-packages (from llama-index) (0.4.1)\n",
      "Requirement already satisfied: llama-index-core<0.13,>=0.12.35 in d:\\learnings\\generativeai\\learning_adk\\myenv\\lib\\site-packages (from llama-index) (0.12.35)\n",
      "Requirement already satisfied: llama-index-embeddings-openai<0.4,>=0.3.0 in d:\\learnings\\generativeai\\learning_adk\\myenv\\lib\\site-packages (from llama-index) (0.3.1)\n",
      "Requirement already satisfied: llama-index-indices-managed-llama-cloud>=0.4.0 in d:\\learnings\\generativeai\\learning_adk\\myenv\\lib\\site-packages (from llama-index) (0.6.11)\n",
      "Requirement already satisfied: llama-index-llms-openai<0.4,>=0.3.0 in d:\\learnings\\generativeai\\learning_adk\\myenv\\lib\\site-packages (from llama-index) (0.3.38)\n",
      "Requirement already satisfied: llama-index-multi-modal-llms-openai<0.5,>=0.4.0 in d:\\learnings\\generativeai\\learning_adk\\myenv\\lib\\site-packages (from llama-index) (0.4.3)\n",
      "Requirement already satisfied: llama-index-program-openai<0.4,>=0.3.0 in d:\\learnings\\generativeai\\learning_adk\\myenv\\lib\\site-packages (from llama-index) (0.3.1)\n",
      "Requirement already satisfied: llama-index-question-gen-openai<0.4,>=0.3.0 in d:\\learnings\\generativeai\\learning_adk\\myenv\\lib\\site-packages (from llama-index) (0.3.0)\n",
      "Requirement already satisfied: llama-index-readers-file<0.5,>=0.4.0 in d:\\learnings\\generativeai\\learning_adk\\myenv\\lib\\site-packages (from llama-index) (0.4.7)\n",
      "Requirement already satisfied: llama-index-readers-llama-parse>=0.4.0 in d:\\learnings\\generativeai\\learning_adk\\myenv\\lib\\site-packages (from llama-index) (0.4.0)\n",
      "Requirement already satisfied: nltk>3.8.1 in d:\\learnings\\generativeai\\learning_adk\\myenv\\lib\\site-packages (from llama-index) (3.9.1)\n",
      "Requirement already satisfied: google-ai-generativelanguage==0.6.15 in d:\\learnings\\generativeai\\learning_adk\\myenv\\lib\\site-packages (from google-generativeai) (0.6.15)\n",
      "Requirement already satisfied: google-api-core in d:\\learnings\\generativeai\\learning_adk\\myenv\\lib\\site-packages (from google-generativeai) (2.24.2)\n",
      "Requirement already satisfied: google-api-python-client in d:\\learnings\\generativeai\\learning_adk\\myenv\\lib\\site-packages (from google-generativeai) (2.169.0)\n",
      "Requirement already satisfied: google-auth>=2.15.0 in d:\\learnings\\generativeai\\learning_adk\\myenv\\lib\\site-packages (from google-generativeai) (2.40.1)\n",
      "Requirement already satisfied: protobuf in d:\\learnings\\generativeai\\learning_adk\\myenv\\lib\\site-packages (from google-generativeai) (5.29.4)\n",
      "Requirement already satisfied: pydantic in d:\\learnings\\generativeai\\learning_adk\\myenv\\lib\\site-packages (from google-generativeai) (2.11.4)\n",
      "Requirement already satisfied: tqdm in d:\\learnings\\generativeai\\learning_adk\\myenv\\lib\\site-packages (from google-generativeai) (4.67.1)\n",
      "Requirement already satisfied: typing-extensions in d:\\learnings\\generativeai\\learning_adk\\myenv\\lib\\site-packages (from google-generativeai) (4.13.2)\n",
      "Requirement already satisfied: proto-plus<2.0.0dev,>=1.22.3 in d:\\learnings\\generativeai\\learning_adk\\myenv\\lib\\site-packages (from google-ai-generativelanguage==0.6.15->google-generativeai) (1.26.1)\n",
      "Requirement already satisfied: pillow<11.0.0,>=10.2.0 in d:\\learnings\\generativeai\\learning_adk\\myenv\\lib\\site-packages (from llama-index-llms-gemini) (10.4.0)\n",
      "Requirement already satisfied: googleapis-common-protos<2.0.0,>=1.56.2 in d:\\learnings\\generativeai\\learning_adk\\myenv\\lib\\site-packages (from google-api-core->google-generativeai) (1.70.0)\n",
      "Requirement already satisfied: requests<3.0.0,>=2.18.0 in d:\\learnings\\generativeai\\learning_adk\\myenv\\lib\\site-packages (from google-api-core->google-generativeai) (2.32.3)\n",
      "Requirement already satisfied: cachetools<6.0,>=2.0.0 in d:\\learnings\\generativeai\\learning_adk\\myenv\\lib\\site-packages (from google-auth>=2.15.0->google-generativeai) (5.5.2)\n",
      "Requirement already satisfied: pyasn1-modules>=0.2.1 in d:\\learnings\\generativeai\\learning_adk\\myenv\\lib\\site-packages (from google-auth>=2.15.0->google-generativeai) (0.4.2)\n",
      "Requirement already satisfied: rsa<5,>=3.1.4 in d:\\learnings\\generativeai\\learning_adk\\myenv\\lib\\site-packages (from google-auth>=2.15.0->google-generativeai) (4.9.1)\n",
      "Requirement already satisfied: openai>=1.14.0 in d:\\learnings\\generativeai\\learning_adk\\myenv\\lib\\site-packages (from llama-index-agent-openai<0.5,>=0.4.0->llama-index) (1.78.0)\n",
      "Requirement already satisfied: aiohttp<4,>=3.8.6 in d:\\learnings\\generativeai\\learning_adk\\myenv\\lib\\site-packages (from llama-index-core<0.13,>=0.12.35->llama-index) (3.11.18)\n",
      "Requirement already satisfied: aiosqlite in d:\\learnings\\generativeai\\learning_adk\\myenv\\lib\\site-packages (from llama-index-core<0.13,>=0.12.35->llama-index) (0.21.0)\n",
      "Requirement already satisfied: banks<3,>=2.0.0 in d:\\learnings\\generativeai\\learning_adk\\myenv\\lib\\site-packages (from llama-index-core<0.13,>=0.12.35->llama-index) (2.1.2)\n",
      "Requirement already satisfied: dataclasses-json in d:\\learnings\\generativeai\\learning_adk\\myenv\\lib\\site-packages (from llama-index-core<0.13,>=0.12.35->llama-index) (0.6.7)\n",
      "Requirement already satisfied: deprecated>=1.2.9.3 in d:\\learnings\\generativeai\\learning_adk\\myenv\\lib\\site-packages (from llama-index-core<0.13,>=0.12.35->llama-index) (1.2.18)\n",
      "Requirement already satisfied: dirtyjson<2,>=1.0.8 in d:\\learnings\\generativeai\\learning_adk\\myenv\\lib\\site-packages (from llama-index-core<0.13,>=0.12.35->llama-index) (1.0.8)\n",
      "Requirement already satisfied: filetype<2,>=1.2.0 in d:\\learnings\\generativeai\\learning_adk\\myenv\\lib\\site-packages (from llama-index-core<0.13,>=0.12.35->llama-index) (1.2.0)\n",
      "Requirement already satisfied: fsspec>=2023.5.0 in d:\\learnings\\generativeai\\learning_adk\\myenv\\lib\\site-packages (from llama-index-core<0.13,>=0.12.35->llama-index) (2025.3.2)\n",
      "Requirement already satisfied: httpx in d:\\learnings\\generativeai\\learning_adk\\myenv\\lib\\site-packages (from llama-index-core<0.13,>=0.12.35->llama-index) (0.28.1)\n",
      "Requirement already satisfied: nest-asyncio<2,>=1.5.8 in d:\\learnings\\generativeai\\learning_adk\\myenv\\lib\\site-packages (from llama-index-core<0.13,>=0.12.35->llama-index) (1.6.0)\n",
      "Requirement already satisfied: networkx>=3.0 in d:\\learnings\\generativeai\\learning_adk\\myenv\\lib\\site-packages (from llama-index-core<0.13,>=0.12.35->llama-index) (3.4.2)\n",
      "Requirement already satisfied: numpy in d:\\learnings\\generativeai\\learning_adk\\myenv\\lib\\site-packages (from llama-index-core<0.13,>=0.12.35->llama-index) (2.2.5)\n",
      "Requirement already satisfied: pyyaml>=6.0.1 in d:\\learnings\\generativeai\\learning_adk\\myenv\\lib\\site-packages (from llama-index-core<0.13,>=0.12.35->llama-index) (6.0.2)\n",
      "Requirement already satisfied: sqlalchemy>=1.4.49 in d:\\learnings\\generativeai\\learning_adk\\myenv\\lib\\site-packages (from sqlalchemy[asyncio]>=1.4.49->llama-index-core<0.13,>=0.12.35->llama-index) (2.0.40)\n",
      "Requirement already satisfied: tenacity!=8.4.0,<10.0.0,>=8.2.0 in d:\\learnings\\generativeai\\learning_adk\\myenv\\lib\\site-packages (from llama-index-core<0.13,>=0.12.35->llama-index) (9.1.2)\n",
      "Requirement already satisfied: tiktoken>=0.7.0 in d:\\learnings\\generativeai\\learning_adk\\myenv\\lib\\site-packages (from llama-index-core<0.13,>=0.12.35->llama-index) (0.9.0)\n",
      "Requirement already satisfied: typing-inspect>=0.8.0 in d:\\learnings\\generativeai\\learning_adk\\myenv\\lib\\site-packages (from llama-index-core<0.13,>=0.12.35->llama-index) (0.9.0)\n",
      "Requirement already satisfied: wrapt in d:\\learnings\\generativeai\\learning_adk\\myenv\\lib\\site-packages (from llama-index-core<0.13,>=0.12.35->llama-index) (1.17.2)\n",
      "Requirement already satisfied: llama-cloud<0.2.0,>=0.1.13 in d:\\learnings\\generativeai\\learning_adk\\myenv\\lib\\site-packages (from llama-index-indices-managed-llama-cloud>=0.4.0->llama-index) (0.1.19)\n",
      "Requirement already satisfied: beautifulsoup4<5.0.0,>=4.12.3 in d:\\learnings\\generativeai\\learning_adk\\myenv\\lib\\site-packages (from llama-index-readers-file<0.5,>=0.4.0->llama-index) (4.13.4)\n",
      "Requirement already satisfied: pandas in d:\\learnings\\generativeai\\learning_adk\\myenv\\lib\\site-packages (from llama-index-readers-file<0.5,>=0.4.0->llama-index) (2.2.3)\n",
      "Requirement already satisfied: pypdf<6.0.0,>=5.1.0 in d:\\learnings\\generativeai\\learning_adk\\myenv\\lib\\site-packages (from llama-index-readers-file<0.5,>=0.4.0->llama-index) (5.4.0)\n",
      "Requirement already satisfied: striprtf<0.0.27,>=0.0.26 in d:\\learnings\\generativeai\\learning_adk\\myenv\\lib\\site-packages (from llama-index-readers-file<0.5,>=0.4.0->llama-index) (0.0.26)\n",
      "Requirement already satisfied: llama-parse>=0.5.0 in d:\\learnings\\generativeai\\learning_adk\\myenv\\lib\\site-packages (from llama-index-readers-llama-parse>=0.4.0->llama-index) (0.6.22)\n",
      "Requirement already satisfied: click in d:\\learnings\\generativeai\\learning_adk\\myenv\\lib\\site-packages (from nltk>3.8.1->llama-index) (8.2.0)\n",
      "Requirement already satisfied: joblib in d:\\learnings\\generativeai\\learning_adk\\myenv\\lib\\site-packages (from nltk>3.8.1->llama-index) (1.5.0)\n",
      "Requirement already satisfied: regex>=2021.8.3 in d:\\learnings\\generativeai\\learning_adk\\myenv\\lib\\site-packages (from nltk>3.8.1->llama-index) (2024.11.6)\n",
      "Requirement already satisfied: annotated-types>=0.6.0 in d:\\learnings\\generativeai\\learning_adk\\myenv\\lib\\site-packages (from pydantic->google-generativeai) (0.7.0)\n",
      "Requirement already satisfied: pydantic-core==2.33.2 in d:\\learnings\\generativeai\\learning_adk\\myenv\\lib\\site-packages (from pydantic->google-generativeai) (2.33.2)\n",
      "Requirement already satisfied: typing-inspection>=0.4.0 in d:\\learnings\\generativeai\\learning_adk\\myenv\\lib\\site-packages (from pydantic->google-generativeai) (0.4.0)\n",
      "Requirement already satisfied: colorama in d:\\learnings\\generativeai\\learning_adk\\myenv\\lib\\site-packages (from tqdm->google-generativeai) (0.4.6)\n",
      "Requirement already satisfied: httplib2<1.0.0,>=0.19.0 in d:\\learnings\\generativeai\\learning_adk\\myenv\\lib\\site-packages (from google-api-python-client->google-generativeai) (0.22.0)\n",
      "Requirement already satisfied: google-auth-httplib2<1.0.0,>=0.2.0 in d:\\learnings\\generativeai\\learning_adk\\myenv\\lib\\site-packages (from google-api-python-client->google-generativeai) (0.2.0)\n",
      "Requirement already satisfied: uritemplate<5,>=3.0.1 in d:\\learnings\\generativeai\\learning_adk\\myenv\\lib\\site-packages (from google-api-python-client->google-generativeai) (4.1.1)\n",
      "Requirement already satisfied: aiohappyeyeballs>=2.3.0 in d:\\learnings\\generativeai\\learning_adk\\myenv\\lib\\site-packages (from aiohttp<4,>=3.8.6->llama-index-core<0.13,>=0.12.35->llama-index) (2.6.1)\n",
      "Requirement already satisfied: aiosignal>=1.1.2 in d:\\learnings\\generativeai\\learning_adk\\myenv\\lib\\site-packages (from aiohttp<4,>=3.8.6->llama-index-core<0.13,>=0.12.35->llama-index) (1.3.2)\n",
      "Requirement already satisfied: attrs>=17.3.0 in d:\\learnings\\generativeai\\learning_adk\\myenv\\lib\\site-packages (from aiohttp<4,>=3.8.6->llama-index-core<0.13,>=0.12.35->llama-index) (25.3.0)\n",
      "Requirement already satisfied: frozenlist>=1.1.1 in d:\\learnings\\generativeai\\learning_adk\\myenv\\lib\\site-packages (from aiohttp<4,>=3.8.6->llama-index-core<0.13,>=0.12.35->llama-index) (1.6.0)\n",
      "Requirement already satisfied: multidict<7.0,>=4.5 in d:\\learnings\\generativeai\\learning_adk\\myenv\\lib\\site-packages (from aiohttp<4,>=3.8.6->llama-index-core<0.13,>=0.12.35->llama-index) (6.4.3)\n",
      "Requirement already satisfied: propcache>=0.2.0 in d:\\learnings\\generativeai\\learning_adk\\myenv\\lib\\site-packages (from aiohttp<4,>=3.8.6->llama-index-core<0.13,>=0.12.35->llama-index) (0.3.1)\n",
      "Requirement already satisfied: yarl<2.0,>=1.17.0 in d:\\learnings\\generativeai\\learning_adk\\myenv\\lib\\site-packages (from aiohttp<4,>=3.8.6->llama-index-core<0.13,>=0.12.35->llama-index) (1.20.0)\n",
      "Requirement already satisfied: griffe in d:\\learnings\\generativeai\\learning_adk\\myenv\\lib\\site-packages (from banks<3,>=2.0.0->llama-index-core<0.13,>=0.12.35->llama-index) (1.7.3)\n",
      "Requirement already satisfied: jinja2 in d:\\learnings\\generativeai\\learning_adk\\myenv\\lib\\site-packages (from banks<3,>=2.0.0->llama-index-core<0.13,>=0.12.35->llama-index) (3.1.6)\n",
      "Requirement already satisfied: platformdirs in d:\\learnings\\generativeai\\learning_adk\\myenv\\lib\\site-packages (from banks<3,>=2.0.0->llama-index-core<0.13,>=0.12.35->llama-index) (4.3.8)\n",
      "Requirement already satisfied: soupsieve>1.2 in d:\\learnings\\generativeai\\learning_adk\\myenv\\lib\\site-packages (from beautifulsoup4<5.0.0,>=4.12.3->llama-index-readers-file<0.5,>=0.4.0->llama-index) (2.7)\n",
      "Requirement already satisfied: grpcio<2.0dev,>=1.33.2 in d:\\learnings\\generativeai\\learning_adk\\myenv\\lib\\site-packages (from google-api-core[grpc]!=2.0.*,!=2.1.*,!=2.10.*,!=2.2.*,!=2.3.*,!=2.4.*,!=2.5.*,!=2.6.*,!=2.7.*,!=2.8.*,!=2.9.*,<3.0.0dev,>=1.34.1->google-ai-generativelanguage==0.6.15->google-generativeai) (1.72.0rc1)\n",
      "Requirement already satisfied: grpcio-status<2.0.dev0,>=1.33.2 in d:\\learnings\\generativeai\\learning_adk\\myenv\\lib\\site-packages (from google-api-core[grpc]!=2.0.*,!=2.1.*,!=2.10.*,!=2.2.*,!=2.3.*,!=2.4.*,!=2.5.*,!=2.6.*,!=2.7.*,!=2.8.*,!=2.9.*,<3.0.0dev,>=1.34.1->google-ai-generativelanguage==0.6.15->google-generativeai) (1.71.0)\n",
      "Requirement already satisfied: pyparsing!=3.0.0,!=3.0.1,!=3.0.2,!=3.0.3,<4,>=2.4.2 in d:\\learnings\\generativeai\\learning_adk\\myenv\\lib\\site-packages (from httplib2<1.0.0,>=0.19.0->google-api-python-client->google-generativeai) (3.2.3)\n",
      "Requirement already satisfied: certifi>=2024.7.4 in d:\\learnings\\generativeai\\learning_adk\\myenv\\lib\\site-packages (from llama-cloud<0.2.0,>=0.1.13->llama-index-indices-managed-llama-cloud>=0.4.0->llama-index) (2025.4.26)\n",
      "Requirement already satisfied: anyio in d:\\learnings\\generativeai\\learning_adk\\myenv\\lib\\site-packages (from httpx->llama-index-core<0.13,>=0.12.35->llama-index) (4.9.0)\n",
      "Requirement already satisfied: httpcore==1.* in d:\\learnings\\generativeai\\learning_adk\\myenv\\lib\\site-packages (from httpx->llama-index-core<0.13,>=0.12.35->llama-index) (1.0.9)\n",
      "Requirement already satisfied: idna in d:\\learnings\\generativeai\\learning_adk\\myenv\\lib\\site-packages (from httpx->llama-index-core<0.13,>=0.12.35->llama-index) (3.10)\n",
      "Requirement already satisfied: h11>=0.16 in d:\\learnings\\generativeai\\learning_adk\\myenv\\lib\\site-packages (from httpcore==1.*->httpx->llama-index-core<0.13,>=0.12.35->llama-index) (0.16.0)\n",
      "Requirement already satisfied: llama-cloud-services>=0.6.22 in d:\\learnings\\generativeai\\learning_adk\\myenv\\lib\\site-packages (from llama-parse>=0.5.0->llama-index-readers-llama-parse>=0.4.0->llama-index) (0.6.22)\n",
      "Requirement already satisfied: distro<2,>=1.7.0 in d:\\learnings\\generativeai\\learning_adk\\myenv\\lib\\site-packages (from openai>=1.14.0->llama-index-agent-openai<0.5,>=0.4.0->llama-index) (1.9.0)\n",
      "Requirement already satisfied: jiter<1,>=0.4.0 in d:\\learnings\\generativeai\\learning_adk\\myenv\\lib\\site-packages (from openai>=1.14.0->llama-index-agent-openai<0.5,>=0.4.0->llama-index) (0.9.0)\n",
      "Requirement already satisfied: sniffio in d:\\learnings\\generativeai\\learning_adk\\myenv\\lib\\site-packages (from openai>=1.14.0->llama-index-agent-openai<0.5,>=0.4.0->llama-index) (1.3.1)\n",
      "Requirement already satisfied: pyasn1<0.7.0,>=0.6.1 in d:\\learnings\\generativeai\\learning_adk\\myenv\\lib\\site-packages (from pyasn1-modules>=0.2.1->google-auth>=2.15.0->google-generativeai) (0.6.1)\n",
      "Requirement already satisfied: charset-normalizer<4,>=2 in d:\\learnings\\generativeai\\learning_adk\\myenv\\lib\\site-packages (from requests<3.0.0,>=2.18.0->google-api-core->google-generativeai) (3.4.2)\n",
      "Requirement already satisfied: urllib3<3,>=1.21.1 in d:\\learnings\\generativeai\\learning_adk\\myenv\\lib\\site-packages (from requests<3.0.0,>=2.18.0->google-api-core->google-generativeai) (2.4.0)\n",
      "Requirement already satisfied: greenlet>=1 in d:\\learnings\\generativeai\\learning_adk\\myenv\\lib\\site-packages (from sqlalchemy>=1.4.49->sqlalchemy[asyncio]>=1.4.49->llama-index-core<0.13,>=0.12.35->llama-index) (3.2.2)\n",
      "Requirement already satisfied: mypy-extensions>=0.3.0 in d:\\learnings\\generativeai\\learning_adk\\myenv\\lib\\site-packages (from typing-inspect>=0.8.0->llama-index-core<0.13,>=0.12.35->llama-index) (1.1.0)\n",
      "Requirement already satisfied: marshmallow<4.0.0,>=3.18.0 in d:\\learnings\\generativeai\\learning_adk\\myenv\\lib\\site-packages (from dataclasses-json->llama-index-core<0.13,>=0.12.35->llama-index) (3.26.1)\n",
      "Requirement already satisfied: python-dateutil>=2.8.2 in d:\\learnings\\generativeai\\learning_adk\\myenv\\lib\\site-packages (from pandas->llama-index-readers-file<0.5,>=0.4.0->llama-index) (2.9.0.post0)\n",
      "Requirement already satisfied: pytz>=2020.1 in d:\\learnings\\generativeai\\learning_adk\\myenv\\lib\\site-packages (from pandas->llama-index-readers-file<0.5,>=0.4.0->llama-index) (2025.2)\n",
      "Requirement already satisfied: tzdata>=2022.7 in d:\\learnings\\generativeai\\learning_adk\\myenv\\lib\\site-packages (from pandas->llama-index-readers-file<0.5,>=0.4.0->llama-index) (2025.2)\n",
      "Requirement already satisfied: python-dotenv<2.0.0,>=1.0.1 in d:\\learnings\\generativeai\\learning_adk\\myenv\\lib\\site-packages (from llama-cloud-services>=0.6.22->llama-parse>=0.5.0->llama-index-readers-llama-parse>=0.4.0->llama-index) (1.1.0)\n",
      "Requirement already satisfied: packaging>=17.0 in d:\\learnings\\generativeai\\learning_adk\\myenv\\lib\\site-packages (from marshmallow<4.0.0,>=3.18.0->dataclasses-json->llama-index-core<0.13,>=0.12.35->llama-index) (24.2)\n",
      "Requirement already satisfied: six>=1.5 in d:\\learnings\\generativeai\\learning_adk\\myenv\\lib\\site-packages (from python-dateutil>=2.8.2->pandas->llama-index-readers-file<0.5,>=0.4.0->llama-index) (1.17.0)\n",
      "Requirement already satisfied: MarkupSafe>=2.0 in d:\\learnings\\generativeai\\learning_adk\\myenv\\lib\\site-packages (from jinja2->banks<3,>=2.0.0->llama-index-core<0.13,>=0.12.35->llama-index) (3.0.2)\n",
      "Note: you may need to restart the kernel to use updated packages.\n"
     ]
    },
    {
     "name": "stderr",
     "output_type": "stream",
     "text": [
      "\n",
      "[notice] A new release of pip is available: 25.0.1 -> 25.1.1\n",
      "[notice] To update, run: python.exe -m pip install --upgrade pip\n"
     ]
    }
   ],
   "source": [
    "pip install llama-index google-generativeai llama-index-llms-gemini"
   ]
  },
  {
   "cell_type": "code",
   "execution_count": 21,
   "id": "a8ed2c8e",
   "metadata": {},
   "outputs": [
    {
     "ename": "ValueError",
     "evalue": "\n******\nCould not load OpenAI embedding model. If you intended to use OpenAI, please check your OPENAI_API_KEY.\nOriginal error:\nNo API key found for OpenAI.\nPlease set either the OPENAI_API_KEY environment variable or openai.api_key prior to initialization.\nAPI keys can be found or created at https://platform.openai.com/account/api-keys\n\nConsider using embed_model='local'.\nVisit our documentation for more embedding options: https://docs.llamaindex.ai/en/stable/module_guides/models/embeddings.html#modules\n******",
     "output_type": "error",
     "traceback": [
      "\u001b[31m---------------------------------------------------------------------------\u001b[39m",
      "\u001b[31mValueError\u001b[39m                                Traceback (most recent call last)",
      "\u001b[36mFile \u001b[39m\u001b[32md:\\Learnings\\generativeAI\\Learning_ADK\\myenv\\Lib\\site-packages\\llama_index\\core\\embeddings\\utils.py:59\u001b[39m, in \u001b[36mresolve_embed_model\u001b[39m\u001b[34m(embed_model, callback_manager)\u001b[39m\n\u001b[32m     58\u001b[39m     embed_model = OpenAIEmbedding()\n\u001b[32m---> \u001b[39m\u001b[32m59\u001b[39m     \u001b[43mvalidate_openai_api_key\u001b[49m\u001b[43m(\u001b[49m\u001b[43membed_model\u001b[49m\u001b[43m.\u001b[49m\u001b[43mapi_key\u001b[49m\u001b[43m)\u001b[49m  \u001b[38;5;66;03m# type: ignore\u001b[39;00m\n\u001b[32m     60\u001b[39m \u001b[38;5;28;01mexcept\u001b[39;00m \u001b[38;5;167;01mImportError\u001b[39;00m:\n",
      "\u001b[36mFile \u001b[39m\u001b[32md:\\Learnings\\generativeAI\\Learning_ADK\\myenv\\Lib\\site-packages\\llama_index\\embeddings\\openai\\utils.py:103\u001b[39m, in \u001b[36mvalidate_openai_api_key\u001b[39m\u001b[34m(api_key)\u001b[39m\n\u001b[32m    102\u001b[39m \u001b[38;5;28;01mif\u001b[39;00m \u001b[38;5;129;01mnot\u001b[39;00m openai_api_key:\n\u001b[32m--> \u001b[39m\u001b[32m103\u001b[39m     \u001b[38;5;28;01mraise\u001b[39;00m \u001b[38;5;167;01mValueError\u001b[39;00m(MISSING_API_KEY_ERROR_MESSAGE)\n",
      "\u001b[31mValueError\u001b[39m: No API key found for OpenAI.\nPlease set either the OPENAI_API_KEY environment variable or openai.api_key prior to initialization.\nAPI keys can be found or created at https://platform.openai.com/account/api-keys\n",
      "\nDuring handling of the above exception, another exception occurred:\n",
      "\u001b[31mValueError\u001b[39m                                Traceback (most recent call last)",
      "\u001b[36mCell\u001b[39m\u001b[36m \u001b[39m\u001b[32mIn[21]\u001b[39m\u001b[32m, line 1\u001b[39m\n\u001b[32m----> \u001b[39m\u001b[32m1\u001b[39m sql_query_engine=\u001b[43mNLSQLTableQueryEngine\u001b[49m\u001b[43m(\u001b[49m\n\u001b[32m      2\u001b[39m \u001b[43m    \u001b[49m\u001b[43msql_database\u001b[49m\u001b[43m=\u001b[49m\u001b[43msql_database\u001b[49m\u001b[43m,\u001b[49m\n\u001b[32m      3\u001b[39m \u001b[43m    \u001b[49m\u001b[43mtables\u001b[49m\u001b[43m=\u001b[49m\u001b[43m[\u001b[49m\u001b[33;43m\"\u001b[39;49m\u001b[33;43memployees\u001b[39;49m\u001b[33;43m\"\u001b[39;49m\u001b[43m]\u001b[49m\u001b[43m,\u001b[49m\n\u001b[32m      4\u001b[39m \u001b[43m    \u001b[49m\u001b[43mllm\u001b[49m\u001b[43m=\u001b[49m\u001b[43mllm\u001b[49m\n\u001b[32m      5\u001b[39m \u001b[43m)\u001b[49m\n",
      "\u001b[36mFile \u001b[39m\u001b[32md:\\Learnings\\generativeAI\\Learning_ADK\\myenv\\Lib\\site-packages\\llama_index\\core\\indices\\struct_store\\sql_query.py:504\u001b[39m, in \u001b[36mNLSQLTableQueryEngine.__init__\u001b[39m\u001b[34m(self, sql_database, llm, text_to_sql_prompt, context_query_kwargs, synthesize_response, markdown_response, response_synthesis_prompt, refine_synthesis_prompt, tables, context_str_prefix, embed_model, sql_only, callback_manager, verbose, **kwargs)\u001b[39m\n\u001b[32m    502\u001b[39m \u001b[38;5;250m\u001b[39m\u001b[33;03m\"\"\"Initialize params.\"\"\"\u001b[39;00m\n\u001b[32m    503\u001b[39m \u001b[38;5;66;03m# self._tables = tables\u001b[39;00m\n\u001b[32m--> \u001b[39m\u001b[32m504\u001b[39m \u001b[38;5;28mself\u001b[39m._sql_retriever = \u001b[43mNLSQLRetriever\u001b[49m\u001b[43m(\u001b[49m\n\u001b[32m    505\u001b[39m \u001b[43m    \u001b[49m\u001b[43msql_database\u001b[49m\u001b[43m,\u001b[49m\n\u001b[32m    506\u001b[39m \u001b[43m    \u001b[49m\u001b[43mllm\u001b[49m\u001b[43m=\u001b[49m\u001b[43mllm\u001b[49m\u001b[43m,\u001b[49m\n\u001b[32m    507\u001b[39m \u001b[43m    \u001b[49m\u001b[43mtext_to_sql_prompt\u001b[49m\u001b[43m=\u001b[49m\u001b[43mtext_to_sql_prompt\u001b[49m\u001b[43m,\u001b[49m\n\u001b[32m    508\u001b[39m \u001b[43m    \u001b[49m\u001b[43mcontext_query_kwargs\u001b[49m\u001b[43m=\u001b[49m\u001b[43mcontext_query_kwargs\u001b[49m\u001b[43m,\u001b[49m\n\u001b[32m    509\u001b[39m \u001b[43m    \u001b[49m\u001b[43mtables\u001b[49m\u001b[43m=\u001b[49m\u001b[43mtables\u001b[49m\u001b[43m,\u001b[49m\n\u001b[32m    510\u001b[39m \u001b[43m    \u001b[49m\u001b[43mcontext_str_prefix\u001b[49m\u001b[43m=\u001b[49m\u001b[43mcontext_str_prefix\u001b[49m\u001b[43m,\u001b[49m\n\u001b[32m    511\u001b[39m \u001b[43m    \u001b[49m\u001b[43membed_model\u001b[49m\u001b[43m=\u001b[49m\u001b[43membed_model\u001b[49m\u001b[43m,\u001b[49m\n\u001b[32m    512\u001b[39m \u001b[43m    \u001b[49m\u001b[43msql_only\u001b[49m\u001b[43m=\u001b[49m\u001b[43msql_only\u001b[49m\u001b[43m,\u001b[49m\n\u001b[32m    513\u001b[39m \u001b[43m    \u001b[49m\u001b[43mcallback_manager\u001b[49m\u001b[43m=\u001b[49m\u001b[43mcallback_manager\u001b[49m\u001b[43m,\u001b[49m\n\u001b[32m    514\u001b[39m \u001b[43m    \u001b[49m\u001b[43mverbose\u001b[49m\u001b[43m=\u001b[49m\u001b[43mverbose\u001b[49m\u001b[43m,\u001b[49m\n\u001b[32m    515\u001b[39m \u001b[43m\u001b[49m\u001b[43m)\u001b[49m\n\u001b[32m    516\u001b[39m \u001b[38;5;28msuper\u001b[39m().\u001b[34m__init__\u001b[39m(\n\u001b[32m    517\u001b[39m     synthesize_response=synthesize_response,\n\u001b[32m    518\u001b[39m     markdown_response=markdown_response,\n\u001b[32m   (...)\u001b[39m\u001b[32m    524\u001b[39m     **kwargs,\n\u001b[32m    525\u001b[39m )\n",
      "\u001b[36mFile \u001b[39m\u001b[32md:\\Learnings\\generativeAI\\Learning_ADK\\myenv\\Lib\\site-packages\\llama_index\\core\\indices\\struct_store\\sql_retriever.py:235\u001b[39m, in \u001b[36mNLSQLRetriever.__init__\u001b[39m\u001b[34m(self, sql_database, text_to_sql_prompt, context_query_kwargs, tables, table_retriever, rows_retrievers, context_str_prefix, sql_parser_mode, llm, embed_model, return_raw, handle_sql_errors, sql_only, callback_manager, verbose, **kwargs)\u001b[39m\n\u001b[32m    232\u001b[39m \u001b[38;5;28mself\u001b[39m._text_to_sql_prompt = text_to_sql_prompt \u001b[38;5;129;01mor\u001b[39;00m DEFAULT_TEXT_TO_SQL_PROMPT\n\u001b[32m    233\u001b[39m \u001b[38;5;28mself\u001b[39m._sql_parser_mode = sql_parser_mode\n\u001b[32m--> \u001b[39m\u001b[32m235\u001b[39m embed_model = embed_model \u001b[38;5;129;01mor\u001b[39;00m \u001b[43mSettings\u001b[49m\u001b[43m.\u001b[49m\u001b[43membed_model\u001b[49m\n\u001b[32m    236\u001b[39m \u001b[38;5;28mself\u001b[39m._sql_parser = \u001b[38;5;28mself\u001b[39m._load_sql_parser(sql_parser_mode, embed_model)\n\u001b[32m    237\u001b[39m \u001b[38;5;28mself\u001b[39m._handle_sql_errors = handle_sql_errors\n",
      "\u001b[36mFile \u001b[39m\u001b[32md:\\Learnings\\generativeAI\\Learning_ADK\\myenv\\Lib\\site-packages\\llama_index\\core\\settings.py:64\u001b[39m, in \u001b[36m_Settings.embed_model\u001b[39m\u001b[34m(self)\u001b[39m\n\u001b[32m     62\u001b[39m \u001b[38;5;250m\u001b[39m\u001b[33;03m\"\"\"Get the embedding model.\"\"\"\u001b[39;00m\n\u001b[32m     63\u001b[39m \u001b[38;5;28;01mif\u001b[39;00m \u001b[38;5;28mself\u001b[39m._embed_model \u001b[38;5;129;01mis\u001b[39;00m \u001b[38;5;28;01mNone\u001b[39;00m:\n\u001b[32m---> \u001b[39m\u001b[32m64\u001b[39m     \u001b[38;5;28mself\u001b[39m._embed_model = \u001b[43mresolve_embed_model\u001b[49m\u001b[43m(\u001b[49m\u001b[33;43m\"\u001b[39;49m\u001b[33;43mdefault\u001b[39;49m\u001b[33;43m\"\u001b[39;49m\u001b[43m)\u001b[49m\n\u001b[32m     66\u001b[39m \u001b[38;5;28;01mif\u001b[39;00m \u001b[38;5;28mself\u001b[39m._callback_manager \u001b[38;5;129;01mis\u001b[39;00m \u001b[38;5;129;01mnot\u001b[39;00m \u001b[38;5;28;01mNone\u001b[39;00m:\n\u001b[32m     67\u001b[39m     \u001b[38;5;28mself\u001b[39m._embed_model.callback_manager = \u001b[38;5;28mself\u001b[39m._callback_manager\n",
      "\u001b[36mFile \u001b[39m\u001b[32md:\\Learnings\\generativeAI\\Learning_ADK\\myenv\\Lib\\site-packages\\llama_index\\core\\embeddings\\utils.py:66\u001b[39m, in \u001b[36mresolve_embed_model\u001b[39m\u001b[34m(embed_model, callback_manager)\u001b[39m\n\u001b[32m     61\u001b[39m         \u001b[38;5;28;01mraise\u001b[39;00m \u001b[38;5;167;01mImportError\u001b[39;00m(\n\u001b[32m     62\u001b[39m             \u001b[33m\"\u001b[39m\u001b[33m`llama-index-embeddings-openai` package not found, \u001b[39m\u001b[33m\"\u001b[39m\n\u001b[32m     63\u001b[39m             \u001b[33m\"\u001b[39m\u001b[33mplease run `pip install llama-index-embeddings-openai`\u001b[39m\u001b[33m\"\u001b[39m\n\u001b[32m     64\u001b[39m         )\n\u001b[32m     65\u001b[39m     \u001b[38;5;28;01mexcept\u001b[39;00m \u001b[38;5;167;01mValueError\u001b[39;00m \u001b[38;5;28;01mas\u001b[39;00m e:\n\u001b[32m---> \u001b[39m\u001b[32m66\u001b[39m         \u001b[38;5;28;01mraise\u001b[39;00m \u001b[38;5;167;01mValueError\u001b[39;00m(\n\u001b[32m     67\u001b[39m             \u001b[33m\"\u001b[39m\u001b[38;5;130;01m\\n\u001b[39;00m\u001b[33m******\u001b[39m\u001b[38;5;130;01m\\n\u001b[39;00m\u001b[33m\"\u001b[39m\n\u001b[32m     68\u001b[39m             \u001b[33m\"\u001b[39m\u001b[33mCould not load OpenAI embedding model. \u001b[39m\u001b[33m\"\u001b[39m\n\u001b[32m     69\u001b[39m             \u001b[33m\"\u001b[39m\u001b[33mIf you intended to use OpenAI, please check your OPENAI_API_KEY.\u001b[39m\u001b[38;5;130;01m\\n\u001b[39;00m\u001b[33m\"\u001b[39m\n\u001b[32m     70\u001b[39m             \u001b[33m\"\u001b[39m\u001b[33mOriginal error:\u001b[39m\u001b[38;5;130;01m\\n\u001b[39;00m\u001b[33m\"\u001b[39m\n\u001b[32m     71\u001b[39m             \u001b[33mf\u001b[39m\u001b[33m\"\u001b[39m\u001b[38;5;132;01m{\u001b[39;00me\u001b[38;5;132;01m!s}\u001b[39;00m\u001b[33m\"\u001b[39m\n\u001b[32m     72\u001b[39m             \u001b[33m\"\u001b[39m\u001b[38;5;130;01m\\n\u001b[39;00m\u001b[33mConsider using embed_model=\u001b[39m\u001b[33m'\u001b[39m\u001b[33mlocal\u001b[39m\u001b[33m'\u001b[39m\u001b[33m.\u001b[39m\u001b[38;5;130;01m\\n\u001b[39;00m\u001b[33m\"\u001b[39m\n\u001b[32m     73\u001b[39m             \u001b[33m\"\u001b[39m\u001b[33mVisit our documentation for more embedding options: \u001b[39m\u001b[33m\"\u001b[39m\n\u001b[32m     74\u001b[39m             \u001b[33m\"\u001b[39m\u001b[33mhttps://docs.llamaindex.ai/en/stable/module_guides/models/\u001b[39m\u001b[33m\"\u001b[39m\n\u001b[32m     75\u001b[39m             \u001b[33m\"\u001b[39m\u001b[33membeddings.html#modules\u001b[39m\u001b[33m\"\u001b[39m\n\u001b[32m     76\u001b[39m             \u001b[33m\"\u001b[39m\u001b[38;5;130;01m\\n\u001b[39;00m\u001b[33m******\u001b[39m\u001b[33m\"\u001b[39m\n\u001b[32m     77\u001b[39m         )\n\u001b[32m     78\u001b[39m \u001b[38;5;66;03m# for image multi-modal embeddings\u001b[39;00m\n\u001b[32m     79\u001b[39m \u001b[38;5;28;01melif\u001b[39;00m \u001b[38;5;28misinstance\u001b[39m(embed_model, \u001b[38;5;28mstr\u001b[39m) \u001b[38;5;129;01mand\u001b[39;00m embed_model.startswith(\u001b[33m\"\u001b[39m\u001b[33mclip\u001b[39m\u001b[33m\"\u001b[39m):\n",
      "\u001b[31mValueError\u001b[39m: \n******\nCould not load OpenAI embedding model. If you intended to use OpenAI, please check your OPENAI_API_KEY.\nOriginal error:\nNo API key found for OpenAI.\nPlease set either the OPENAI_API_KEY environment variable or openai.api_key prior to initialization.\nAPI keys can be found or created at https://platform.openai.com/account/api-keys\n\nConsider using embed_model='local'.\nVisit our documentation for more embedding options: https://docs.llamaindex.ai/en/stable/module_guides/models/embeddings.html#modules\n******"
     ]
    }
   ],
   "source": [
    "sql_query_engine=NLSQLTableQueryEngine(\n",
    "    sql_database=sql_database,\n",
    "    tables=[\"employees\"],\n",
    "    llm=llm\n",
    ")"
   ]
  },
  {
   "cell_type": "code",
   "execution_count": 22,
   "id": "a5c9a54c",
   "metadata": {},
   "outputs": [],
   "source": [
    "db_path = r\"D:\\Learnings\\generativeAI\\Learning_ADK\\employees.db\"\n",
    "sqlite_uri = f\"sqlite:///{db_path}\""
   ]
  },
  {
   "cell_type": "code",
   "execution_count": 23,
   "id": "ea8dd14c",
   "metadata": {},
   "outputs": [],
   "source": [
    "table_name = \"employees\""
   ]
  },
  {
   "cell_type": "code",
   "execution_count": 24,
   "id": "eca5ead9",
   "metadata": {},
   "outputs": [
    {
     "name": "stderr",
     "output_type": "stream",
     "text": [
      "C:\\Users\\keerthana J\\AppData\\Local\\Temp\\ipykernel_2432\\221008018.py:1: DeprecationWarning: Call to deprecated class Gemini. (Should use `llama-index-llms-google-genai` instead, using Google's latest unified SDK. See: https://docs.llamaindex.ai/en/stable/examples/llm/google_genai/)\n",
      "  llm = Gemini(model_name=\"models/gemini-1.5-flash\")\n"
     ]
    }
   ],
   "source": [
    "llm = Gemini(model_name=\"models/gemini-1.5-flash\")"
   ]
  },
  {
   "cell_type": "code",
   "execution_count": 33,
   "id": "af5f56cd",
   "metadata": {},
   "outputs": [],
   "source": [
    "sql_database = SQLDatabase.from_uri(sqlite_uri)"
   ]
  },
  {
   "cell_type": "code",
   "execution_count": 29,
   "id": "0401960d",
   "metadata": {},
   "outputs": [
    {
     "name": "stdout",
     "output_type": "stream",
     "text": [
      "Collecting llama-index-embeddings-gemini\n",
      "  Downloading llama_index_embeddings_gemini-0.3.2-py3-none-any.whl.metadata (907 bytes)\n",
      "Requirement already satisfied: google-generativeai>=0.5.2 in d:\\learnings\\generativeai\\learning_adk\\myenv\\lib\\site-packages (from llama-index-embeddings-gemini) (0.8.5)\n",
      "Requirement already satisfied: llama-index-core<0.13.0,>=0.12.0 in d:\\learnings\\generativeai\\learning_adk\\myenv\\lib\\site-packages (from llama-index-embeddings-gemini) (0.12.35)\n",
      "Requirement already satisfied: google-ai-generativelanguage==0.6.15 in d:\\learnings\\generativeai\\learning_adk\\myenv\\lib\\site-packages (from google-generativeai>=0.5.2->llama-index-embeddings-gemini) (0.6.15)\n",
      "Requirement already satisfied: google-api-core in d:\\learnings\\generativeai\\learning_adk\\myenv\\lib\\site-packages (from google-generativeai>=0.5.2->llama-index-embeddings-gemini) (2.24.2)\n",
      "Requirement already satisfied: google-api-python-client in d:\\learnings\\generativeai\\learning_adk\\myenv\\lib\\site-packages (from google-generativeai>=0.5.2->llama-index-embeddings-gemini) (2.169.0)\n",
      "Requirement already satisfied: google-auth>=2.15.0 in d:\\learnings\\generativeai\\learning_adk\\myenv\\lib\\site-packages (from google-generativeai>=0.5.2->llama-index-embeddings-gemini) (2.40.1)\n",
      "Requirement already satisfied: protobuf in d:\\learnings\\generativeai\\learning_adk\\myenv\\lib\\site-packages (from google-generativeai>=0.5.2->llama-index-embeddings-gemini) (5.29.4)\n",
      "Requirement already satisfied: pydantic in d:\\learnings\\generativeai\\learning_adk\\myenv\\lib\\site-packages (from google-generativeai>=0.5.2->llama-index-embeddings-gemini) (2.11.4)\n",
      "Requirement already satisfied: tqdm in d:\\learnings\\generativeai\\learning_adk\\myenv\\lib\\site-packages (from google-generativeai>=0.5.2->llama-index-embeddings-gemini) (4.67.1)\n",
      "Requirement already satisfied: typing-extensions in d:\\learnings\\generativeai\\learning_adk\\myenv\\lib\\site-packages (from google-generativeai>=0.5.2->llama-index-embeddings-gemini) (4.13.2)\n",
      "Requirement already satisfied: proto-plus<2.0.0dev,>=1.22.3 in d:\\learnings\\generativeai\\learning_adk\\myenv\\lib\\site-packages (from google-ai-generativelanguage==0.6.15->google-generativeai>=0.5.2->llama-index-embeddings-gemini) (1.26.1)\n",
      "Requirement already satisfied: aiohttp<4,>=3.8.6 in d:\\learnings\\generativeai\\learning_adk\\myenv\\lib\\site-packages (from llama-index-core<0.13.0,>=0.12.0->llama-index-embeddings-gemini) (3.11.18)\n",
      "Requirement already satisfied: aiosqlite in d:\\learnings\\generativeai\\learning_adk\\myenv\\lib\\site-packages (from llama-index-core<0.13.0,>=0.12.0->llama-index-embeddings-gemini) (0.21.0)\n",
      "Requirement already satisfied: banks<3,>=2.0.0 in d:\\learnings\\generativeai\\learning_adk\\myenv\\lib\\site-packages (from llama-index-core<0.13.0,>=0.12.0->llama-index-embeddings-gemini) (2.1.2)\n",
      "Requirement already satisfied: dataclasses-json in d:\\learnings\\generativeai\\learning_adk\\myenv\\lib\\site-packages (from llama-index-core<0.13.0,>=0.12.0->llama-index-embeddings-gemini) (0.6.7)\n",
      "Requirement already satisfied: deprecated>=1.2.9.3 in d:\\learnings\\generativeai\\learning_adk\\myenv\\lib\\site-packages (from llama-index-core<0.13.0,>=0.12.0->llama-index-embeddings-gemini) (1.2.18)\n",
      "Requirement already satisfied: dirtyjson<2,>=1.0.8 in d:\\learnings\\generativeai\\learning_adk\\myenv\\lib\\site-packages (from llama-index-core<0.13.0,>=0.12.0->llama-index-embeddings-gemini) (1.0.8)\n",
      "Requirement already satisfied: filetype<2,>=1.2.0 in d:\\learnings\\generativeai\\learning_adk\\myenv\\lib\\site-packages (from llama-index-core<0.13.0,>=0.12.0->llama-index-embeddings-gemini) (1.2.0)\n",
      "Requirement already satisfied: fsspec>=2023.5.0 in d:\\learnings\\generativeai\\learning_adk\\myenv\\lib\\site-packages (from llama-index-core<0.13.0,>=0.12.0->llama-index-embeddings-gemini) (2025.3.2)\n",
      "Requirement already satisfied: httpx in d:\\learnings\\generativeai\\learning_adk\\myenv\\lib\\site-packages (from llama-index-core<0.13.0,>=0.12.0->llama-index-embeddings-gemini) (0.28.1)\n",
      "Requirement already satisfied: nest-asyncio<2,>=1.5.8 in d:\\learnings\\generativeai\\learning_adk\\myenv\\lib\\site-packages (from llama-index-core<0.13.0,>=0.12.0->llama-index-embeddings-gemini) (1.6.0)\n",
      "Requirement already satisfied: networkx>=3.0 in d:\\learnings\\generativeai\\learning_adk\\myenv\\lib\\site-packages (from llama-index-core<0.13.0,>=0.12.0->llama-index-embeddings-gemini) (3.4.2)\n",
      "Requirement already satisfied: nltk>3.8.1 in d:\\learnings\\generativeai\\learning_adk\\myenv\\lib\\site-packages (from llama-index-core<0.13.0,>=0.12.0->llama-index-embeddings-gemini) (3.9.1)\n",
      "Requirement already satisfied: numpy in d:\\learnings\\generativeai\\learning_adk\\myenv\\lib\\site-packages (from llama-index-core<0.13.0,>=0.12.0->llama-index-embeddings-gemini) (2.2.5)\n",
      "Requirement already satisfied: pillow>=9.0.0 in d:\\learnings\\generativeai\\learning_adk\\myenv\\lib\\site-packages (from llama-index-core<0.13.0,>=0.12.0->llama-index-embeddings-gemini) (10.4.0)\n",
      "Requirement already satisfied: pyyaml>=6.0.1 in d:\\learnings\\generativeai\\learning_adk\\myenv\\lib\\site-packages (from llama-index-core<0.13.0,>=0.12.0->llama-index-embeddings-gemini) (6.0.2)\n",
      "Requirement already satisfied: requests>=2.31.0 in d:\\learnings\\generativeai\\learning_adk\\myenv\\lib\\site-packages (from llama-index-core<0.13.0,>=0.12.0->llama-index-embeddings-gemini) (2.32.3)\n",
      "Requirement already satisfied: sqlalchemy>=1.4.49 in d:\\learnings\\generativeai\\learning_adk\\myenv\\lib\\site-packages (from sqlalchemy[asyncio]>=1.4.49->llama-index-core<0.13.0,>=0.12.0->llama-index-embeddings-gemini) (2.0.40)\n",
      "Requirement already satisfied: tenacity!=8.4.0,<10.0.0,>=8.2.0 in d:\\learnings\\generativeai\\learning_adk\\myenv\\lib\\site-packages (from llama-index-core<0.13.0,>=0.12.0->llama-index-embeddings-gemini) (9.1.2)\n",
      "Requirement already satisfied: tiktoken>=0.7.0 in d:\\learnings\\generativeai\\learning_adk\\myenv\\lib\\site-packages (from llama-index-core<0.13.0,>=0.12.0->llama-index-embeddings-gemini) (0.9.0)\n",
      "Requirement already satisfied: typing-inspect>=0.8.0 in d:\\learnings\\generativeai\\learning_adk\\myenv\\lib\\site-packages (from llama-index-core<0.13.0,>=0.12.0->llama-index-embeddings-gemini) (0.9.0)\n",
      "Requirement already satisfied: wrapt in d:\\learnings\\generativeai\\learning_adk\\myenv\\lib\\site-packages (from llama-index-core<0.13.0,>=0.12.0->llama-index-embeddings-gemini) (1.17.2)\n",
      "Requirement already satisfied: aiohappyeyeballs>=2.3.0 in d:\\learnings\\generativeai\\learning_adk\\myenv\\lib\\site-packages (from aiohttp<4,>=3.8.6->llama-index-core<0.13.0,>=0.12.0->llama-index-embeddings-gemini) (2.6.1)\n",
      "Requirement already satisfied: aiosignal>=1.1.2 in d:\\learnings\\generativeai\\learning_adk\\myenv\\lib\\site-packages (from aiohttp<4,>=3.8.6->llama-index-core<0.13.0,>=0.12.0->llama-index-embeddings-gemini) (1.3.2)\n",
      "Requirement already satisfied: attrs>=17.3.0 in d:\\learnings\\generativeai\\learning_adk\\myenv\\lib\\site-packages (from aiohttp<4,>=3.8.6->llama-index-core<0.13.0,>=0.12.0->llama-index-embeddings-gemini) (25.3.0)\n",
      "Requirement already satisfied: frozenlist>=1.1.1 in d:\\learnings\\generativeai\\learning_adk\\myenv\\lib\\site-packages (from aiohttp<4,>=3.8.6->llama-index-core<0.13.0,>=0.12.0->llama-index-embeddings-gemini) (1.6.0)\n",
      "Requirement already satisfied: multidict<7.0,>=4.5 in d:\\learnings\\generativeai\\learning_adk\\myenv\\lib\\site-packages (from aiohttp<4,>=3.8.6->llama-index-core<0.13.0,>=0.12.0->llama-index-embeddings-gemini) (6.4.3)\n",
      "Requirement already satisfied: propcache>=0.2.0 in d:\\learnings\\generativeai\\learning_adk\\myenv\\lib\\site-packages (from aiohttp<4,>=3.8.6->llama-index-core<0.13.0,>=0.12.0->llama-index-embeddings-gemini) (0.3.1)\n",
      "Requirement already satisfied: yarl<2.0,>=1.17.0 in d:\\learnings\\generativeai\\learning_adk\\myenv\\lib\\site-packages (from aiohttp<4,>=3.8.6->llama-index-core<0.13.0,>=0.12.0->llama-index-embeddings-gemini) (1.20.0)\n",
      "Requirement already satisfied: griffe in d:\\learnings\\generativeai\\learning_adk\\myenv\\lib\\site-packages (from banks<3,>=2.0.0->llama-index-core<0.13.0,>=0.12.0->llama-index-embeddings-gemini) (1.7.3)\n",
      "Requirement already satisfied: jinja2 in d:\\learnings\\generativeai\\learning_adk\\myenv\\lib\\site-packages (from banks<3,>=2.0.0->llama-index-core<0.13.0,>=0.12.0->llama-index-embeddings-gemini) (3.1.6)\n",
      "Requirement already satisfied: platformdirs in d:\\learnings\\generativeai\\learning_adk\\myenv\\lib\\site-packages (from banks<3,>=2.0.0->llama-index-core<0.13.0,>=0.12.0->llama-index-embeddings-gemini) (4.3.8)\n",
      "Requirement already satisfied: googleapis-common-protos<2.0.0,>=1.56.2 in d:\\learnings\\generativeai\\learning_adk\\myenv\\lib\\site-packages (from google-api-core->google-generativeai>=0.5.2->llama-index-embeddings-gemini) (1.70.0)\n",
      "Requirement already satisfied: cachetools<6.0,>=2.0.0 in d:\\learnings\\generativeai\\learning_adk\\myenv\\lib\\site-packages (from google-auth>=2.15.0->google-generativeai>=0.5.2->llama-index-embeddings-gemini) (5.5.2)\n",
      "Requirement already satisfied: pyasn1-modules>=0.2.1 in d:\\learnings\\generativeai\\learning_adk\\myenv\\lib\\site-packages (from google-auth>=2.15.0->google-generativeai>=0.5.2->llama-index-embeddings-gemini) (0.4.2)\n",
      "Requirement already satisfied: rsa<5,>=3.1.4 in d:\\learnings\\generativeai\\learning_adk\\myenv\\lib\\site-packages (from google-auth>=2.15.0->google-generativeai>=0.5.2->llama-index-embeddings-gemini) (4.9.1)\n",
      "Requirement already satisfied: click in d:\\learnings\\generativeai\\learning_adk\\myenv\\lib\\site-packages (from nltk>3.8.1->llama-index-core<0.13.0,>=0.12.0->llama-index-embeddings-gemini) (8.2.0)\n",
      "Requirement already satisfied: joblib in d:\\learnings\\generativeai\\learning_adk\\myenv\\lib\\site-packages (from nltk>3.8.1->llama-index-core<0.13.0,>=0.12.0->llama-index-embeddings-gemini) (1.5.0)\n",
      "Requirement already satisfied: regex>=2021.8.3 in d:\\learnings\\generativeai\\learning_adk\\myenv\\lib\\site-packages (from nltk>3.8.1->llama-index-core<0.13.0,>=0.12.0->llama-index-embeddings-gemini) (2024.11.6)\n",
      "Requirement already satisfied: annotated-types>=0.6.0 in d:\\learnings\\generativeai\\learning_adk\\myenv\\lib\\site-packages (from pydantic->google-generativeai>=0.5.2->llama-index-embeddings-gemini) (0.7.0)\n",
      "Requirement already satisfied: pydantic-core==2.33.2 in d:\\learnings\\generativeai\\learning_adk\\myenv\\lib\\site-packages (from pydantic->google-generativeai>=0.5.2->llama-index-embeddings-gemini) (2.33.2)\n",
      "Requirement already satisfied: typing-inspection>=0.4.0 in d:\\learnings\\generativeai\\learning_adk\\myenv\\lib\\site-packages (from pydantic->google-generativeai>=0.5.2->llama-index-embeddings-gemini) (0.4.0)\n",
      "Requirement already satisfied: charset-normalizer<4,>=2 in d:\\learnings\\generativeai\\learning_adk\\myenv\\lib\\site-packages (from requests>=2.31.0->llama-index-core<0.13.0,>=0.12.0->llama-index-embeddings-gemini) (3.4.2)\n",
      "Requirement already satisfied: idna<4,>=2.5 in d:\\learnings\\generativeai\\learning_adk\\myenv\\lib\\site-packages (from requests>=2.31.0->llama-index-core<0.13.0,>=0.12.0->llama-index-embeddings-gemini) (3.10)\n",
      "Requirement already satisfied: urllib3<3,>=1.21.1 in d:\\learnings\\generativeai\\learning_adk\\myenv\\lib\\site-packages (from requests>=2.31.0->llama-index-core<0.13.0,>=0.12.0->llama-index-embeddings-gemini) (2.4.0)\n",
      "Requirement already satisfied: certifi>=2017.4.17 in d:\\learnings\\generativeai\\learning_adk\\myenv\\lib\\site-packages (from requests>=2.31.0->llama-index-core<0.13.0,>=0.12.0->llama-index-embeddings-gemini) (2025.4.26)\n",
      "Requirement already satisfied: greenlet>=1 in d:\\learnings\\generativeai\\learning_adk\\myenv\\lib\\site-packages (from sqlalchemy>=1.4.49->sqlalchemy[asyncio]>=1.4.49->llama-index-core<0.13.0,>=0.12.0->llama-index-embeddings-gemini) (3.2.2)\n",
      "Requirement already satisfied: colorama in d:\\learnings\\generativeai\\learning_adk\\myenv\\lib\\site-packages (from tqdm->google-generativeai>=0.5.2->llama-index-embeddings-gemini) (0.4.6)\n",
      "Requirement already satisfied: mypy-extensions>=0.3.0 in d:\\learnings\\generativeai\\learning_adk\\myenv\\lib\\site-packages (from typing-inspect>=0.8.0->llama-index-core<0.13.0,>=0.12.0->llama-index-embeddings-gemini) (1.1.0)\n",
      "Requirement already satisfied: marshmallow<4.0.0,>=3.18.0 in d:\\learnings\\generativeai\\learning_adk\\myenv\\lib\\site-packages (from dataclasses-json->llama-index-core<0.13.0,>=0.12.0->llama-index-embeddings-gemini) (3.26.1)\n",
      "Requirement already satisfied: httplib2<1.0.0,>=0.19.0 in d:\\learnings\\generativeai\\learning_adk\\myenv\\lib\\site-packages (from google-api-python-client->google-generativeai>=0.5.2->llama-index-embeddings-gemini) (0.22.0)\n",
      "Requirement already satisfied: google-auth-httplib2<1.0.0,>=0.2.0 in d:\\learnings\\generativeai\\learning_adk\\myenv\\lib\\site-packages (from google-api-python-client->google-generativeai>=0.5.2->llama-index-embeddings-gemini) (0.2.0)\n",
      "Requirement already satisfied: uritemplate<5,>=3.0.1 in d:\\learnings\\generativeai\\learning_adk\\myenv\\lib\\site-packages (from google-api-python-client->google-generativeai>=0.5.2->llama-index-embeddings-gemini) (4.1.1)\n",
      "Requirement already satisfied: anyio in d:\\learnings\\generativeai\\learning_adk\\myenv\\lib\\site-packages (from httpx->llama-index-core<0.13.0,>=0.12.0->llama-index-embeddings-gemini) (4.9.0)\n",
      "Requirement already satisfied: httpcore==1.* in d:\\learnings\\generativeai\\learning_adk\\myenv\\lib\\site-packages (from httpx->llama-index-core<0.13.0,>=0.12.0->llama-index-embeddings-gemini) (1.0.9)\n",
      "Requirement already satisfied: h11>=0.16 in d:\\learnings\\generativeai\\learning_adk\\myenv\\lib\\site-packages (from httpcore==1.*->httpx->llama-index-core<0.13.0,>=0.12.0->llama-index-embeddings-gemini) (0.16.0)\n",
      "Requirement already satisfied: grpcio<2.0dev,>=1.33.2 in d:\\learnings\\generativeai\\learning_adk\\myenv\\lib\\site-packages (from google-api-core[grpc]!=2.0.*,!=2.1.*,!=2.10.*,!=2.2.*,!=2.3.*,!=2.4.*,!=2.5.*,!=2.6.*,!=2.7.*,!=2.8.*,!=2.9.*,<3.0.0dev,>=1.34.1->google-ai-generativelanguage==0.6.15->google-generativeai>=0.5.2->llama-index-embeddings-gemini) (1.72.0rc1)\n",
      "Requirement already satisfied: grpcio-status<2.0.dev0,>=1.33.2 in d:\\learnings\\generativeai\\learning_adk\\myenv\\lib\\site-packages (from google-api-core[grpc]!=2.0.*,!=2.1.*,!=2.10.*,!=2.2.*,!=2.3.*,!=2.4.*,!=2.5.*,!=2.6.*,!=2.7.*,!=2.8.*,!=2.9.*,<3.0.0dev,>=1.34.1->google-ai-generativelanguage==0.6.15->google-generativeai>=0.5.2->llama-index-embeddings-gemini) (1.71.0)\n",
      "Requirement already satisfied: pyparsing!=3.0.0,!=3.0.1,!=3.0.2,!=3.0.3,<4,>=2.4.2 in d:\\learnings\\generativeai\\learning_adk\\myenv\\lib\\site-packages (from httplib2<1.0.0,>=0.19.0->google-api-python-client->google-generativeai>=0.5.2->llama-index-embeddings-gemini) (3.2.3)\n",
      "Requirement already satisfied: packaging>=17.0 in d:\\learnings\\generativeai\\learning_adk\\myenv\\lib\\site-packages (from marshmallow<4.0.0,>=3.18.0->dataclasses-json->llama-index-core<0.13.0,>=0.12.0->llama-index-embeddings-gemini) (24.2)\n",
      "Requirement already satisfied: pyasn1<0.7.0,>=0.6.1 in d:\\learnings\\generativeai\\learning_adk\\myenv\\lib\\site-packages (from pyasn1-modules>=0.2.1->google-auth>=2.15.0->google-generativeai>=0.5.2->llama-index-embeddings-gemini) (0.6.1)\n",
      "Requirement already satisfied: sniffio>=1.1 in d:\\learnings\\generativeai\\learning_adk\\myenv\\lib\\site-packages (from anyio->httpx->llama-index-core<0.13.0,>=0.12.0->llama-index-embeddings-gemini) (1.3.1)\n",
      "Requirement already satisfied: MarkupSafe>=2.0 in d:\\learnings\\generativeai\\learning_adk\\myenv\\lib\\site-packages (from jinja2->banks<3,>=2.0.0->llama-index-core<0.13.0,>=0.12.0->llama-index-embeddings-gemini) (3.0.2)\n",
      "Downloading llama_index_embeddings_gemini-0.3.2-py3-none-any.whl (4.0 kB)\n",
      "Installing collected packages: llama-index-embeddings-gemini\n",
      "Successfully installed llama-index-embeddings-gemini-0.3.2\n",
      "Note: you may need to restart the kernel to use updated packages.\n"
     ]
    },
    {
     "name": "stderr",
     "output_type": "stream",
     "text": [
      "\n",
      "[notice] A new release of pip is available: 25.0.1 -> 25.1.1\n",
      "[notice] To update, run: python.exe -m pip install --upgrade pip\n"
     ]
    }
   ],
   "source": [
    "pip install llama-index-embeddings-gemini"
   ]
  },
  {
   "cell_type": "code",
   "execution_count": 30,
   "id": "d9a98c1d",
   "metadata": {},
   "outputs": [
    {
     "name": "stderr",
     "output_type": "stream",
     "text": [
      "C:\\Users\\keerthana J\\AppData\\Local\\Temp\\ipykernel_2432\\831617845.py:3: DeprecationWarning: Call to deprecated class GeminiEmbedding. (Should use `llama-index-embeddings-google-genai` instead, using Google's latest unified SDK. See: https://docs.llamaindex.ai/en/stable/examples/embeddings/google_genai/)\n",
      "  embed_model = GeminiEmbedding(model_name=\"models/embedding-001\")\n"
     ]
    }
   ],
   "source": [
    "from llama_index.embeddings.gemini import GeminiEmbedding\n",
    "\n",
    "embed_model = GeminiEmbedding(model_name=\"models/embedding-001\")"
   ]
  },
  {
   "cell_type": "code",
   "execution_count": 32,
   "id": "5aabca2f",
   "metadata": {},
   "outputs": [],
   "source": [
    "from llama_index.core import Settings\n",
    "Settings.llm = llm\n",
    "Settings.embed_model = embed_model"
   ]
  },
  {
   "cell_type": "code",
   "execution_count": 34,
   "id": "87b65bbf",
   "metadata": {},
   "outputs": [],
   "source": [
    "sql_query_engine = NLSQLTableQueryEngine(\n",
    "    sql_database=sql_database,\n",
    "    tables=[table_name],\n",
    "    llm=llm\n",
    ")"
   ]
  },
  {
   "cell_type": "code",
   "execution_count": 37,
   "id": "36def9ff",
   "metadata": {},
   "outputs": [],
   "source": [
    "response=sql_query_engine.query(\"Give a complete detail about John Doe\")"
   ]
  },
  {
   "cell_type": "code",
   "execution_count": 38,
   "id": "aa285eb0",
   "metadata": {},
   "outputs": [
    {
     "name": "stdout",
     "output_type": "stream",
     "text": [
      "John Doe is a Software Engineer in the Engineering department.  He started on January 15, 2022, and earns $85,000.00 annually. His contact information is john.doe@example.com and 123-456-7890.  His employee ID is 1.\n",
      "\n"
     ]
    }
   ],
   "source": [
    "print(response)"
   ]
  },
  {
   "cell_type": "code",
   "execution_count": null,
   "id": "f98afe49",
   "metadata": {},
   "outputs": [],
   "source": []
  }
 ],
 "metadata": {
  "kernelspec": {
   "display_name": "myenv",
   "language": "python",
   "name": "python3"
  },
  "language_info": {
   "codemirror_mode": {
    "name": "ipython",
    "version": 3
   },
   "file_extension": ".py",
   "mimetype": "text/x-python",
   "name": "python",
   "nbconvert_exporter": "python",
   "pygments_lexer": "ipython3",
   "version": "3.12.10"
  }
 },
 "nbformat": 4,
 "nbformat_minor": 5
}
